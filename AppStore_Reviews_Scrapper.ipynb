{
  "nbformat": 4,
  "nbformat_minor": 0,
  "metadata": {
    "colab": {
      "name": "AppStore_Reviews_Scrapper.ipynb",
      "provenance": [],
      "authorship_tag": "ABX9TyPGh8xbzC/IFAwUbjK6pguv",
      "include_colab_link": true
    },
    "kernelspec": {
      "name": "python3",
      "display_name": "Python 3"
    },
    "language_info": {
      "name": "python"
    }
  },
  "cells": [
    {
      "cell_type": "markdown",
      "metadata": {
        "id": "view-in-github",
        "colab_type": "text"
      },
      "source": [
        "<a href=\"https://colab.research.google.com/github/serlysetyani/App_Reviews_Scrapper/blob/main/AppStore_Reviews_Scrapper.ipynb\" target=\"_parent\"><img src=\"https://colab.research.google.com/assets/colab-badge.svg\" alt=\"Open In Colab\"/></a>"
      ]
    },
    {
      "cell_type": "code",
      "execution_count": null,
      "metadata": {
        "id": "j7OwTiZzqX_t"
      },
      "outputs": [],
      "source": [
        "from app_store_scraper import AppStore\n",
        "import pandas as pd\n",
        "import numpy as np\n",
        "import json"
      ]
    },
    {
      "cell_type": "code",
      "source": [
        "jenius = AppStore(country='id', app_name='jenius', app_id = '1079340119')\n",
        "\n",
        "jenius.review(how_many=21800)"
      ],
      "metadata": {
        "colab": {
          "base_uri": "https://localhost:8080/"
        },
        "id": "YKC5wEdsqtwC",
        "outputId": "b8f94acb-1c82-4a12-b59f-1aa510d5b90e"
      },
      "execution_count": null,
      "outputs": [
        {
          "output_type": "stream",
          "name": "stderr",
          "text": [
            "2022-06-03 03:47:01,895 [INFO] Base - Initialised: AppStore('id', 'jenius', 1079340119)\n",
            "2022-06-03 03:47:01,898 [INFO] Base - Ready to fetch reviews from: https://apps.apple.com/id/app/jenius/id1079340119\n",
            "2022-06-03 03:47:06,922 [INFO] Base - [id:1079340119] Fetched 220 reviews (220 fetched in total)\n",
            "2022-06-03 03:47:15,542 [INFO] Base - [id:1079340119] Fetched 440 reviews (440 fetched in total)\n",
            "2022-06-03 03:47:22,203 [INFO] Base - [id:1079340119] Fetched 780 reviews (780 fetched in total)\n",
            "2022-06-03 03:47:27,790 [INFO] Base - [id:1079340119] Fetched 1140 reviews (1140 fetched in total)\n",
            "2022-06-03 03:47:33,322 [INFO] Base - [id:1079340119] Fetched 1580 reviews (1580 fetched in total)\n",
            "2022-06-03 03:47:38,740 [INFO] Base - [id:1079340119] Fetched 1960 reviews (1960 fetched in total)\n",
            "2022-06-03 03:47:44,199 [INFO] Base - [id:1079340119] Fetched 2320 reviews (2320 fetched in total)\n",
            "2022-06-03 03:47:49,617 [INFO] Base - [id:1079340119] Fetched 2700 reviews (2700 fetched in total)\n",
            "2022-06-03 03:47:55,098 [INFO] Base - [id:1079340119] Fetched 3120 reviews (3120 fetched in total)\n",
            "2022-06-03 03:48:00,476 [INFO] Base - [id:1079340119] Fetched 3520 reviews (3520 fetched in total)\n",
            "2022-06-03 03:48:05,903 [INFO] Base - [id:1079340119] Fetched 3980 reviews (3980 fetched in total)\n",
            "2022-06-03 03:48:11,261 [INFO] Base - [id:1079340119] Fetched 4540 reviews (4540 fetched in total)\n",
            "2022-06-03 03:48:16,634 [INFO] Base - [id:1079340119] Fetched 5100 reviews (5100 fetched in total)\n"
          ]
        }
      ]
    },
    {
      "cell_type": "code",
      "source": [
        "df = pd.DataFrame(np.array(jenius.reviews),columns=['review'])\n",
        "\n",
        "df2 = df.join(pd.DataFrame(df.pop('review').tolist()))\n",
        "\n",
        "df2.head()"
      ],
      "metadata": {
        "colab": {
          "base_uri": "https://localhost:8080/",
          "height": 250
        },
        "id": "tzv9eH0Bq79-",
        "outputId": "dc409bd7-87b4-4009-f4ac-59ea40709115"
      },
      "execution_count": null,
      "outputs": [
        {
          "output_type": "execute_result",
          "data": {
            "text/plain": [
              "         userName  isEdited  \\\n",
              "0        Adipedia     False   \n",
              "1    sonisinungan     False   \n",
              "2    sustinaperry     False   \n",
              "3           dnluk      True   \n",
              "4  Irene Oktavina     False   \n",
              "\n",
              "                                              review  \\\n",
              "0  Initially I was impressed with the new account...   \n",
              "1  E-Wallet centre always loading and cannot be c...   \n",
              "2  Fiturnya mudah digunakan dan memudahkan dalam ...   \n",
              "3  keluar dari ekosistem jenius adalah langkah pa...   \n",
              "4  Ga expect bngt bisa secanggih ini banking terp...   \n",
              "\n",
              "                                    title                date  rating  \\\n",
              "0  Great Concept, Still need Improvement. 2017-09-21 05:51:07       4   \n",
              "1                             What happen 2019-07-04 03:05:35       4   \n",
              "2                              Nice app❤️ 2021-04-18 18:17:36       5   \n",
              "3                      Unreliable Service 2021-02-21 15:34:59       1   \n",
              "4                               Perfectly 2021-06-16 19:09:18       5   \n",
              "\n",
              "                                   developerResponse  \n",
              "0                                                NaN  \n",
              "1                                                NaN  \n",
              "2                                                NaN  \n",
              "3  {'id': 19275170, 'body': 'Hi, boleh diinfokan ...  \n",
              "4                                                NaN  "
            ],
            "text/html": [
              "\n",
              "  <div id=\"df-d45348d2-7842-4522-9572-25855471d871\">\n",
              "    <div class=\"colab-df-container\">\n",
              "      <div>\n",
              "<style scoped>\n",
              "    .dataframe tbody tr th:only-of-type {\n",
              "        vertical-align: middle;\n",
              "    }\n",
              "\n",
              "    .dataframe tbody tr th {\n",
              "        vertical-align: top;\n",
              "    }\n",
              "\n",
              "    .dataframe thead th {\n",
              "        text-align: right;\n",
              "    }\n",
              "</style>\n",
              "<table border=\"1\" class=\"dataframe\">\n",
              "  <thead>\n",
              "    <tr style=\"text-align: right;\">\n",
              "      <th></th>\n",
              "      <th>userName</th>\n",
              "      <th>isEdited</th>\n",
              "      <th>review</th>\n",
              "      <th>title</th>\n",
              "      <th>date</th>\n",
              "      <th>rating</th>\n",
              "      <th>developerResponse</th>\n",
              "    </tr>\n",
              "  </thead>\n",
              "  <tbody>\n",
              "    <tr>\n",
              "      <th>0</th>\n",
              "      <td>Adipedia</td>\n",
              "      <td>False</td>\n",
              "      <td>Initially I was impressed with the new account...</td>\n",
              "      <td>Great Concept, Still need Improvement.</td>\n",
              "      <td>2017-09-21 05:51:07</td>\n",
              "      <td>4</td>\n",
              "      <td>NaN</td>\n",
              "    </tr>\n",
              "    <tr>\n",
              "      <th>1</th>\n",
              "      <td>sonisinungan</td>\n",
              "      <td>False</td>\n",
              "      <td>E-Wallet centre always loading and cannot be c...</td>\n",
              "      <td>What happen</td>\n",
              "      <td>2019-07-04 03:05:35</td>\n",
              "      <td>4</td>\n",
              "      <td>NaN</td>\n",
              "    </tr>\n",
              "    <tr>\n",
              "      <th>2</th>\n",
              "      <td>sustinaperry</td>\n",
              "      <td>False</td>\n",
              "      <td>Fiturnya mudah digunakan dan memudahkan dalam ...</td>\n",
              "      <td>Nice app❤️</td>\n",
              "      <td>2021-04-18 18:17:36</td>\n",
              "      <td>5</td>\n",
              "      <td>NaN</td>\n",
              "    </tr>\n",
              "    <tr>\n",
              "      <th>3</th>\n",
              "      <td>dnluk</td>\n",
              "      <td>True</td>\n",
              "      <td>keluar dari ekosistem jenius adalah langkah pa...</td>\n",
              "      <td>Unreliable Service</td>\n",
              "      <td>2021-02-21 15:34:59</td>\n",
              "      <td>1</td>\n",
              "      <td>{'id': 19275170, 'body': 'Hi, boleh diinfokan ...</td>\n",
              "    </tr>\n",
              "    <tr>\n",
              "      <th>4</th>\n",
              "      <td>Irene Oktavina</td>\n",
              "      <td>False</td>\n",
              "      <td>Ga expect bngt bisa secanggih ini banking terp...</td>\n",
              "      <td>Perfectly</td>\n",
              "      <td>2021-06-16 19:09:18</td>\n",
              "      <td>5</td>\n",
              "      <td>NaN</td>\n",
              "    </tr>\n",
              "  </tbody>\n",
              "</table>\n",
              "</div>\n",
              "      <button class=\"colab-df-convert\" onclick=\"convertToInteractive('df-d45348d2-7842-4522-9572-25855471d871')\"\n",
              "              title=\"Convert this dataframe to an interactive table.\"\n",
              "              style=\"display:none;\">\n",
              "        \n",
              "  <svg xmlns=\"http://www.w3.org/2000/svg\" height=\"24px\"viewBox=\"0 0 24 24\"\n",
              "       width=\"24px\">\n",
              "    <path d=\"M0 0h24v24H0V0z\" fill=\"none\"/>\n",
              "    <path d=\"M18.56 5.44l.94 2.06.94-2.06 2.06-.94-2.06-.94-.94-2.06-.94 2.06-2.06.94zm-11 1L8.5 8.5l.94-2.06 2.06-.94-2.06-.94L8.5 2.5l-.94 2.06-2.06.94zm10 10l.94 2.06.94-2.06 2.06-.94-2.06-.94-.94-2.06-.94 2.06-2.06.94z\"/><path d=\"M17.41 7.96l-1.37-1.37c-.4-.4-.92-.59-1.43-.59-.52 0-1.04.2-1.43.59L10.3 9.45l-7.72 7.72c-.78.78-.78 2.05 0 2.83L4 21.41c.39.39.9.59 1.41.59.51 0 1.02-.2 1.41-.59l7.78-7.78 2.81-2.81c.8-.78.8-2.07 0-2.86zM5.41 20L4 18.59l7.72-7.72 1.47 1.35L5.41 20z\"/>\n",
              "  </svg>\n",
              "      </button>\n",
              "      \n",
              "  <style>\n",
              "    .colab-df-container {\n",
              "      display:flex;\n",
              "      flex-wrap:wrap;\n",
              "      gap: 12px;\n",
              "    }\n",
              "\n",
              "    .colab-df-convert {\n",
              "      background-color: #E8F0FE;\n",
              "      border: none;\n",
              "      border-radius: 50%;\n",
              "      cursor: pointer;\n",
              "      display: none;\n",
              "      fill: #1967D2;\n",
              "      height: 32px;\n",
              "      padding: 0 0 0 0;\n",
              "      width: 32px;\n",
              "    }\n",
              "\n",
              "    .colab-df-convert:hover {\n",
              "      background-color: #E2EBFA;\n",
              "      box-shadow: 0px 1px 2px rgba(60, 64, 67, 0.3), 0px 1px 3px 1px rgba(60, 64, 67, 0.15);\n",
              "      fill: #174EA6;\n",
              "    }\n",
              "\n",
              "    [theme=dark] .colab-df-convert {\n",
              "      background-color: #3B4455;\n",
              "      fill: #D2E3FC;\n",
              "    }\n",
              "\n",
              "    [theme=dark] .colab-df-convert:hover {\n",
              "      background-color: #434B5C;\n",
              "      box-shadow: 0px 1px 3px 1px rgba(0, 0, 0, 0.15);\n",
              "      filter: drop-shadow(0px 1px 2px rgba(0, 0, 0, 0.3));\n",
              "      fill: #FFFFFF;\n",
              "    }\n",
              "  </style>\n",
              "\n",
              "      <script>\n",
              "        const buttonEl =\n",
              "          document.querySelector('#df-d45348d2-7842-4522-9572-25855471d871 button.colab-df-convert');\n",
              "        buttonEl.style.display =\n",
              "          google.colab.kernel.accessAllowed ? 'block' : 'none';\n",
              "\n",
              "        async function convertToInteractive(key) {\n",
              "          const element = document.querySelector('#df-d45348d2-7842-4522-9572-25855471d871');\n",
              "          const dataTable =\n",
              "            await google.colab.kernel.invokeFunction('convertToInteractive',\n",
              "                                                     [key], {});\n",
              "          if (!dataTable) return;\n",
              "\n",
              "          const docLinkHtml = 'Like what you see? Visit the ' +\n",
              "            '<a target=\"_blank\" href=https://colab.research.google.com/notebooks/data_table.ipynb>data table notebook</a>'\n",
              "            + ' to learn more about interactive tables.';\n",
              "          element.innerHTML = '';\n",
              "          dataTable['output_type'] = 'display_data';\n",
              "          await google.colab.output.renderOutput(dataTable, element);\n",
              "          const docLink = document.createElement('div');\n",
              "          docLink.innerHTML = docLinkHtml;\n",
              "          element.appendChild(docLink);\n",
              "        }\n",
              "      </script>\n",
              "    </div>\n",
              "  </div>\n",
              "  "
            ]
          },
          "metadata": {},
          "execution_count": 8
        }
      ]
    },
    {
      "cell_type": "code",
      "source": [
        "from google.colab import files\n",
        "df2.to_csv('output.csv', encoding = 'utf-8-sig') \n",
        "files.download('output.csv')"
      ],
      "metadata": {
        "colab": {
          "base_uri": "https://localhost:8080/",
          "height": 17
        },
        "id": "Gbekp27orwtV",
        "outputId": "adba0d79-e27a-4221-f4d4-d119a2eca0f8"
      },
      "execution_count": null,
      "outputs": [
        {
          "output_type": "display_data",
          "data": {
            "text/plain": [
              "<IPython.core.display.Javascript object>"
            ],
            "application/javascript": [
              "\n",
              "    async function download(id, filename, size) {\n",
              "      if (!google.colab.kernel.accessAllowed) {\n",
              "        return;\n",
              "      }\n",
              "      const div = document.createElement('div');\n",
              "      const label = document.createElement('label');\n",
              "      label.textContent = `Downloading \"${filename}\": `;\n",
              "      div.appendChild(label);\n",
              "      const progress = document.createElement('progress');\n",
              "      progress.max = size;\n",
              "      div.appendChild(progress);\n",
              "      document.body.appendChild(div);\n",
              "\n",
              "      const buffers = [];\n",
              "      let downloaded = 0;\n",
              "\n",
              "      const channel = await google.colab.kernel.comms.open(id);\n",
              "      // Send a message to notify the kernel that we're ready.\n",
              "      channel.send({})\n",
              "\n",
              "      for await (const message of channel.messages) {\n",
              "        // Send a message to notify the kernel that we're ready.\n",
              "        channel.send({})\n",
              "        if (message.buffers) {\n",
              "          for (const buffer of message.buffers) {\n",
              "            buffers.push(buffer);\n",
              "            downloaded += buffer.byteLength;\n",
              "            progress.value = downloaded;\n",
              "          }\n",
              "        }\n",
              "      }\n",
              "      const blob = new Blob(buffers, {type: 'application/binary'});\n",
              "      const a = document.createElement('a');\n",
              "      a.href = window.URL.createObjectURL(blob);\n",
              "      a.download = filename;\n",
              "      div.appendChild(a);\n",
              "      a.click();\n",
              "      div.remove();\n",
              "    }\n",
              "  "
            ]
          },
          "metadata": {}
        },
        {
          "output_type": "display_data",
          "data": {
            "text/plain": [
              "<IPython.core.display.Javascript object>"
            ],
            "application/javascript": [
              "download(\"download_0707bc4d-7d8f-482a-9e87-79e421428343\", \"output.csv\", 999252)"
            ]
          },
          "metadata": {}
        }
      ]
    }
  ]
}